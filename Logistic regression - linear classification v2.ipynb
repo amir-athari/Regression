{
 "cells": [
  {
   "cell_type": "markdown",
   "metadata": {},
   "source": [
    "# Space Shuttle STATLOG "
   ]
  },
  {
   "cell_type": "markdown",
   "metadata": {},
   "source": [
    "## Abstract: The shuttle dataset contains 9 attributes all of which are numerical. "
   ]
  },
  {
   "cell_type": "markdown",
   "metadata": {},
   "source": [
    "## http://archive.ics.uci.edu/ml/datasets/Statlog+%28Shuttle%29"
   ]
  },
  {
   "cell_type": "code",
   "execution_count": null,
   "metadata": {},
   "outputs": [],
   "source": []
  },
  {
   "cell_type": "code",
   "execution_count": 67,
   "metadata": {},
   "outputs": [],
   "source": [
    "import matplotlib.pyplot as plt\n",
    "import math\n",
    "from mlxtend.plotting import plot_decision_regions\n",
    "import numpy as np\n",
    "from numpy import percentile\n",
    "from numpy.random import seed\n",
    "import os\n",
    "import pandas as pd\n",
    "from sqlalchemy import create_engine\n",
    "import scipy.stats as stats\n",
    "from scipy.stats import zscore\n",
    "from scipy.stats.mstats import winsorize\n",
    "from scipy.stats import jarque_bera\n",
    "from scipy.stats import normaltest\n",
    "from scipy.stats import boxcox\n",
    "import seaborn as sns\n",
    "from sklearn.decomposition import PCA\n",
    "from sklearn.preprocessing import StandardScaler\n",
    "from sklearn.datasets import make_blobs\n",
    "from sklearn.linear_model import LogisticRegression\n",
    "from sklearn.svm import LinearSVC\n",
    "from sklearn.neighbors import KNeighborsClassifier\n",
    "from sklearn.tree import DecisionTreeClassifier\n",
    "from sklearn.ensemble import RandomForestClassifier\n",
    "from sklearn.datasets import load_breast_cancer\n",
    "from sklearn.model_selection import train_test_split\n",
    "from sklearn.dummy import DummyClassifier\n",
    "from sklearn.metrics import confusion_matrix\n",
    "from sklearn.utils.multiclass import unique_labels\n",
    "from sklearn.metrics import accuracy_score, precision_score, recall_score, f1_score, fbeta_score, classification_report\n",
    "from sklearn.metrics import roc_curve, precision_recall_curve, roc_auc_score\n",
    "from sklearn.model_selection import cross_val_score\n",
    "import warnings\n",
    "warnings.filterwarnings('ignore')"
   ]
  },
  {
   "cell_type": "code",
   "execution_count": 2,
   "metadata": {},
   "outputs": [],
   "source": [
    "base_folder = r'C:\\Users\\user\\OneDrive - Seedergy\\MAEN\\Code\\Projects\\Courses\\Thinkful2020'\n",
    "data_file = os.path.join(base_folder,'shuttle' + \".\" + 'trn')\n",
    "#data=pd.read_csv(\"shuttle.trn\",sep=\" \",header=None)\n",
    "df_data = pd.read_csv(data_file,sep=\" \",header=None) "
   ]
  },
  {
   "cell_type": "markdown",
   "metadata": {},
   "source": [
    "## Explore the data"
   ]
  },
  {
   "cell_type": "code",
   "execution_count": 3,
   "metadata": {},
   "outputs": [
    {
     "name": "stdout",
     "output_type": "stream",
     "text": [
      "There are 43500 rows and 10 columns\n"
     ]
    }
   ],
   "source": [
    "nRow, nCol = df_data.shape\n",
    "print(f'There are {nRow} rows and {nCol} columns')"
   ]
  },
  {
   "cell_type": "code",
   "execution_count": 4,
   "metadata": {},
   "outputs": [
    {
     "data": {
      "text/html": [
       "<div>\n",
       "<style scoped>\n",
       "    .dataframe tbody tr th:only-of-type {\n",
       "        vertical-align: middle;\n",
       "    }\n",
       "\n",
       "    .dataframe tbody tr th {\n",
       "        vertical-align: top;\n",
       "    }\n",
       "\n",
       "    .dataframe thead th {\n",
       "        text-align: right;\n",
       "    }\n",
       "</style>\n",
       "<table border=\"1\" class=\"dataframe\">\n",
       "  <thead>\n",
       "    <tr style=\"text-align: right;\">\n",
       "      <th></th>\n",
       "      <th>0</th>\n",
       "      <th>1</th>\n",
       "      <th>2</th>\n",
       "      <th>3</th>\n",
       "      <th>4</th>\n",
       "      <th>5</th>\n",
       "      <th>6</th>\n",
       "      <th>7</th>\n",
       "      <th>8</th>\n",
       "      <th>9</th>\n",
       "    </tr>\n",
       "  </thead>\n",
       "  <tbody>\n",
       "    <tr>\n",
       "      <th>0</th>\n",
       "      <td>50</td>\n",
       "      <td>21</td>\n",
       "      <td>77</td>\n",
       "      <td>0</td>\n",
       "      <td>28</td>\n",
       "      <td>0</td>\n",
       "      <td>27</td>\n",
       "      <td>48</td>\n",
       "      <td>22</td>\n",
       "      <td>2</td>\n",
       "    </tr>\n",
       "    <tr>\n",
       "      <th>1</th>\n",
       "      <td>55</td>\n",
       "      <td>0</td>\n",
       "      <td>92</td>\n",
       "      <td>0</td>\n",
       "      <td>0</td>\n",
       "      <td>26</td>\n",
       "      <td>36</td>\n",
       "      <td>92</td>\n",
       "      <td>56</td>\n",
       "      <td>4</td>\n",
       "    </tr>\n",
       "    <tr>\n",
       "      <th>2</th>\n",
       "      <td>53</td>\n",
       "      <td>0</td>\n",
       "      <td>82</td>\n",
       "      <td>0</td>\n",
       "      <td>52</td>\n",
       "      <td>-5</td>\n",
       "      <td>29</td>\n",
       "      <td>30</td>\n",
       "      <td>2</td>\n",
       "      <td>1</td>\n",
       "    </tr>\n",
       "  </tbody>\n",
       "</table>\n",
       "</div>"
      ],
      "text/plain": [
       "    0   1   2  3   4   5   6   7   8  9\n",
       "0  50  21  77  0  28   0  27  48  22  2\n",
       "1  55   0  92  0   0  26  36  92  56  4\n",
       "2  53   0  82  0  52  -5  29  30   2  1"
      ]
     },
     "execution_count": 4,
     "metadata": {},
     "output_type": "execute_result"
    }
   ],
   "source": [
    "df_data.head(3)"
   ]
  },
  {
   "cell_type": "code",
   "execution_count": 5,
   "metadata": {},
   "outputs": [],
   "source": [
    "# Help functions to gather basic descriptions\n",
    "def describe(df):\n",
    "    return pd.concat([df.describe().T,\n",
    "                      df.mad().rename('mean abs dev'),\n",
    "                      df.skew().rename('skew'),\n",
    "                      df.kurt().rename('kurt'),\n",
    "                      df.nunique().rename('unique')\n",
    "                     ], axis=1).T"
   ]
  },
  {
   "cell_type": "code",
   "execution_count": null,
   "metadata": {},
   "outputs": [],
   "source": [
    "# Non-numerical describe\n",
    "df_stat = df_data.describe(include = ['O']) \n",
    "df_stat.loc['dtype'] = df_data.dtypes\n",
    "df_stat.loc['size'] = len(df_data)\n",
    "df_stat.loc['% null'] = df_data.isnull().mean().round(2)\n",
    "df_stat"
   ]
  },
  {
   "cell_type": "code",
   "execution_count": 6,
   "metadata": {},
   "outputs": [
    {
     "data": {
      "text/html": [
       "<div>\n",
       "<style scoped>\n",
       "    .dataframe tbody tr th:only-of-type {\n",
       "        vertical-align: middle;\n",
       "    }\n",
       "\n",
       "    .dataframe tbody tr th {\n",
       "        vertical-align: top;\n",
       "    }\n",
       "\n",
       "    .dataframe thead th {\n",
       "        text-align: right;\n",
       "    }\n",
       "</style>\n",
       "<table border=\"1\" class=\"dataframe\">\n",
       "  <thead>\n",
       "    <tr style=\"text-align: right;\">\n",
       "      <th></th>\n",
       "      <th>0</th>\n",
       "      <th>1</th>\n",
       "      <th>2</th>\n",
       "      <th>3</th>\n",
       "      <th>4</th>\n",
       "      <th>5</th>\n",
       "      <th>6</th>\n",
       "      <th>7</th>\n",
       "      <th>8</th>\n",
       "      <th>9</th>\n",
       "    </tr>\n",
       "  </thead>\n",
       "  <tbody>\n",
       "    <tr>\n",
       "      <th>count</th>\n",
       "      <td>43500</td>\n",
       "      <td>43500</td>\n",
       "      <td>43500</td>\n",
       "      <td>43500</td>\n",
       "      <td>43500</td>\n",
       "      <td>43500</td>\n",
       "      <td>43500</td>\n",
       "      <td>43500</td>\n",
       "      <td>43500</td>\n",
       "      <td>43500</td>\n",
       "    </tr>\n",
       "    <tr>\n",
       "      <th>mean</th>\n",
       "      <td>48.2497</td>\n",
       "      <td>-0.205126</td>\n",
       "      <td>85.3416</td>\n",
       "      <td>0.262736</td>\n",
       "      <td>34.5288</td>\n",
       "      <td>1.29828</td>\n",
       "      <td>37.0746</td>\n",
       "      <td>50.8999</td>\n",
       "      <td>13.9646</td>\n",
       "      <td>1.70053</td>\n",
       "    </tr>\n",
       "    <tr>\n",
       "      <th>std</th>\n",
       "      <td>12.2526</td>\n",
       "      <td>78.1428</td>\n",
       "      <td>8.9086</td>\n",
       "      <td>41.0041</td>\n",
       "      <td>21.7034</td>\n",
       "      <td>179.487</td>\n",
       "      <td>13.1356</td>\n",
       "      <td>21.4632</td>\n",
       "      <td>25.6484</td>\n",
       "      <td>1.35465</td>\n",
       "    </tr>\n",
       "    <tr>\n",
       "      <th>min</th>\n",
       "      <td>27</td>\n",
       "      <td>-4821</td>\n",
       "      <td>21</td>\n",
       "      <td>-3939</td>\n",
       "      <td>-188</td>\n",
       "      <td>-13839</td>\n",
       "      <td>-48</td>\n",
       "      <td>-353</td>\n",
       "      <td>-356</td>\n",
       "      <td>1</td>\n",
       "    </tr>\n",
       "    <tr>\n",
       "      <th>25%</th>\n",
       "      <td>38</td>\n",
       "      <td>0</td>\n",
       "      <td>79</td>\n",
       "      <td>0</td>\n",
       "      <td>26</td>\n",
       "      <td>-5</td>\n",
       "      <td>31</td>\n",
       "      <td>37</td>\n",
       "      <td>0</td>\n",
       "      <td>1</td>\n",
       "    </tr>\n",
       "    <tr>\n",
       "      <th>50%</th>\n",
       "      <td>45</td>\n",
       "      <td>0</td>\n",
       "      <td>83</td>\n",
       "      <td>0</td>\n",
       "      <td>42</td>\n",
       "      <td>0</td>\n",
       "      <td>39</td>\n",
       "      <td>44</td>\n",
       "      <td>2</td>\n",
       "      <td>1</td>\n",
       "    </tr>\n",
       "    <tr>\n",
       "      <th>75%</th>\n",
       "      <td>55</td>\n",
       "      <td>0</td>\n",
       "      <td>89</td>\n",
       "      <td>0</td>\n",
       "      <td>46</td>\n",
       "      <td>5</td>\n",
       "      <td>42</td>\n",
       "      <td>60</td>\n",
       "      <td>14</td>\n",
       "      <td>1</td>\n",
       "    </tr>\n",
       "    <tr>\n",
       "      <th>max</th>\n",
       "      <td>126</td>\n",
       "      <td>5075</td>\n",
       "      <td>149</td>\n",
       "      <td>3830</td>\n",
       "      <td>436</td>\n",
       "      <td>13148</td>\n",
       "      <td>105</td>\n",
       "      <td>270</td>\n",
       "      <td>266</td>\n",
       "      <td>7</td>\n",
       "    </tr>\n",
       "    <tr>\n",
       "      <th>dtype</th>\n",
       "      <td>int64</td>\n",
       "      <td>int64</td>\n",
       "      <td>int64</td>\n",
       "      <td>int64</td>\n",
       "      <td>int64</td>\n",
       "      <td>int64</td>\n",
       "      <td>int64</td>\n",
       "      <td>int64</td>\n",
       "      <td>int64</td>\n",
       "      <td>int64</td>\n",
       "    </tr>\n",
       "    <tr>\n",
       "      <th>size</th>\n",
       "      <td>43500</td>\n",
       "      <td>43500</td>\n",
       "      <td>43500</td>\n",
       "      <td>43500</td>\n",
       "      <td>43500</td>\n",
       "      <td>43500</td>\n",
       "      <td>43500</td>\n",
       "      <td>43500</td>\n",
       "      <td>43500</td>\n",
       "      <td>43500</td>\n",
       "    </tr>\n",
       "    <tr>\n",
       "      <th>% null</th>\n",
       "      <td>0</td>\n",
       "      <td>0</td>\n",
       "      <td>0</td>\n",
       "      <td>0</td>\n",
       "      <td>0</td>\n",
       "      <td>0</td>\n",
       "      <td>0</td>\n",
       "      <td>0</td>\n",
       "      <td>0</td>\n",
       "      <td>0</td>\n",
       "    </tr>\n",
       "  </tbody>\n",
       "</table>\n",
       "</div>"
      ],
      "text/plain": [
       "              0         1        2         3        4        5        6  \\\n",
       "count     43500     43500    43500     43500    43500    43500    43500   \n",
       "mean    48.2497 -0.205126  85.3416  0.262736  34.5288  1.29828  37.0746   \n",
       "std     12.2526   78.1428   8.9086   41.0041  21.7034  179.487  13.1356   \n",
       "min          27     -4821       21     -3939     -188   -13839      -48   \n",
       "25%          38         0       79         0       26       -5       31   \n",
       "50%          45         0       83         0       42        0       39   \n",
       "75%          55         0       89         0       46        5       42   \n",
       "max         126      5075      149      3830      436    13148      105   \n",
       "dtype     int64     int64    int64     int64    int64    int64    int64   \n",
       "size      43500     43500    43500     43500    43500    43500    43500   \n",
       "% null        0         0        0         0        0        0        0   \n",
       "\n",
       "              7        8        9  \n",
       "count     43500    43500    43500  \n",
       "mean    50.8999  13.9646  1.70053  \n",
       "std     21.4632  25.6484  1.35465  \n",
       "min        -353     -356        1  \n",
       "25%          37        0        1  \n",
       "50%          44        2        1  \n",
       "75%          60       14        1  \n",
       "max         270      266        7  \n",
       "dtype     int64    int64    int64  \n",
       "size      43500    43500    43500  \n",
       "% null        0        0        0  "
      ]
     },
     "execution_count": 6,
     "metadata": {},
     "output_type": "execute_result"
    }
   ],
   "source": [
    "# Numerical describe\n",
    "df_stat = df_data.describe(include = [np.number]) \n",
    "df_stat.loc['dtype'] = df_data.dtypes\n",
    "df_stat.loc['size'] = len(df_data)\n",
    "df_stat.loc['% null'] = df_data.isnull().mean().round(2)\n",
    "df_stat"
   ]
  },
  {
   "cell_type": "code",
   "execution_count": 7,
   "metadata": {},
   "outputs": [],
   "source": [
    "# Remove status from the list of columnsnames\n",
    "names = df_data.columns\n",
    "names = [x for x in names if x != 9]"
   ]
  },
  {
   "cell_type": "code",
   "execution_count": 8,
   "metadata": {},
   "outputs": [
    {
     "data": {
      "text/plain": [
       "[0, 1, 2, 3, 4, 5, 6, 7, 8]"
      ]
     },
     "execution_count": 8,
     "metadata": {},
     "output_type": "execute_result"
    }
   ],
   "source": [
    "names"
   ]
  },
  {
   "cell_type": "code",
   "execution_count": 9,
   "metadata": {},
   "outputs": [],
   "source": [
    "X = df_data.loc[:, names]\n",
    "y = df_data.loc[:, 9]"
   ]
  },
  {
   "cell_type": "code",
   "execution_count": 10,
   "metadata": {},
   "outputs": [
    {
     "data": {
      "text/html": [
       "<div>\n",
       "<style scoped>\n",
       "    .dataframe tbody tr th:only-of-type {\n",
       "        vertical-align: middle;\n",
       "    }\n",
       "\n",
       "    .dataframe tbody tr th {\n",
       "        vertical-align: top;\n",
       "    }\n",
       "\n",
       "    .dataframe thead th {\n",
       "        text-align: right;\n",
       "    }\n",
       "</style>\n",
       "<table border=\"1\" class=\"dataframe\">\n",
       "  <thead>\n",
       "    <tr style=\"text-align: right;\">\n",
       "      <th></th>\n",
       "      <th>0</th>\n",
       "      <th>1</th>\n",
       "      <th>2</th>\n",
       "      <th>3</th>\n",
       "      <th>4</th>\n",
       "      <th>5</th>\n",
       "      <th>6</th>\n",
       "      <th>7</th>\n",
       "      <th>8</th>\n",
       "    </tr>\n",
       "  </thead>\n",
       "  <tbody>\n",
       "    <tr>\n",
       "      <th>0</th>\n",
       "      <td>50</td>\n",
       "      <td>21</td>\n",
       "      <td>77</td>\n",
       "      <td>0</td>\n",
       "      <td>28</td>\n",
       "      <td>0</td>\n",
       "      <td>27</td>\n",
       "      <td>48</td>\n",
       "      <td>22</td>\n",
       "    </tr>\n",
       "    <tr>\n",
       "      <th>1</th>\n",
       "      <td>55</td>\n",
       "      <td>0</td>\n",
       "      <td>92</td>\n",
       "      <td>0</td>\n",
       "      <td>0</td>\n",
       "      <td>26</td>\n",
       "      <td>36</td>\n",
       "      <td>92</td>\n",
       "      <td>56</td>\n",
       "    </tr>\n",
       "  </tbody>\n",
       "</table>\n",
       "</div>"
      ],
      "text/plain": [
       "    0   1   2  3   4   5   6   7   8\n",
       "0  50  21  77  0  28   0  27  48  22\n",
       "1  55   0  92  0   0  26  36  92  56"
      ]
     },
     "execution_count": 10,
     "metadata": {},
     "output_type": "execute_result"
    }
   ],
   "source": [
    "X.head(2)"
   ]
  },
  {
   "cell_type": "code",
   "execution_count": 11,
   "metadata": {},
   "outputs": [
    {
     "data": {
      "text/plain": [
       "0    2\n",
       "1    4\n",
       "Name: 9, dtype: int64"
      ]
     },
     "execution_count": 11,
     "metadata": {},
     "output_type": "execute_result"
    }
   ],
   "source": [
    "y.head(2)"
   ]
  },
  {
   "cell_type": "markdown",
   "metadata": {},
   "source": [
    "## Split the data into training and test and fit the model"
   ]
  },
  {
   "cell_type": "markdown",
   "metadata": {},
   "source": [
    "### Try some tuning and see impact on the accuracy"
   ]
  },
  {
   "cell_type": "code",
   "execution_count": 12,
   "metadata": {},
   "outputs": [
    {
     "name": "stdout",
     "output_type": "stream",
     "text": [
      "Score on training data:  0.9173443129181678\n",
      "Score on test data:  0.9149425287356322\n"
     ]
    }
   ],
   "source": [
    "# Default setting with no penalty\n",
    "X_train, X_test, y_train, y_test = train_test_split(X, y, test_size=0.33, random_state=42)\n",
    "lr_regularized = LogisticRegression(solver='lbfgs', penalty='none', random_state=2)\n",
    "lr_regularized.fit(X_train, y_train)\n",
    "\n",
    "lr_regularized.score(X_test, y_test)\n",
    "\n",
    "test_score = lr_regularized.score(X_test, y_test)\n",
    "train_score = lr_regularized.score(X_train, y_train)\n",
    "\n",
    "print('Score on training data: ', train_score)\n",
    "print('Score on test data: ', test_score)"
   ]
  },
  {
   "cell_type": "markdown",
   "metadata": {},
   "source": [
    "## Score on test is quite high however we need to compare this to the baseline where we do not do any prediction."
   ]
  },
  {
   "cell_type": "code",
   "execution_count": 13,
   "metadata": {},
   "outputs": [
    {
     "data": {
      "text/plain": [
       "1    34108\n",
       "4     6748\n",
       "5     2458\n",
       "3      132\n",
       "2       37\n",
       "7       11\n",
       "6        6\n",
       "Name: 9, dtype: int64"
      ]
     },
     "execution_count": 13,
     "metadata": {},
     "output_type": "execute_result"
    }
   ],
   "source": [
    "# First we make our target class into binary type by assigning the value 1 to the most frequent class and 0 to the remaining\n",
    "# get the frequency of the classes\n",
    "y.value_counts()"
   ]
  },
  {
   "cell_type": "code",
   "execution_count": 14,
   "metadata": {},
   "outputs": [],
   "source": [
    "# Use dummy values 1/0 for most frequent classes\n",
    "y_2 = y.copy()\n",
    "y_2[y_2 !=1] = 0\n",
    "y_2[y_2 ==1] = 1"
   ]
  },
  {
   "cell_type": "code",
   "execution_count": null,
   "metadata": {},
   "outputs": [],
   "source": []
  },
  {
   "cell_type": "code",
   "execution_count": 15,
   "metadata": {},
   "outputs": [
    {
     "name": "stdout",
     "output_type": "stream",
     "text": [
      "Score on training data:  0.9441413621547435\n",
      "Score on test data:  0.9455938697318008\n"
     ]
    }
   ],
   "source": [
    "# Run the prediction using the most frequent class\n",
    "# Default setting with no penalty\n",
    "X_train, X_test, y_train, y_test = train_test_split(X, y_2, test_size=0.33, random_state=42)\n",
    "lr = LogisticRegression(solver='lbfgs', penalty='none', random_state=2)\n",
    "lr.fit(X_train, y_train)\n",
    "\n",
    "lr.score(X_test, y_test)\n",
    "\n",
    "test_score = lr.score(X_test, y_test)\n",
    "train_score = lr.score(X_train, y_train)\n",
    "\n",
    "print('Score on training data: ', train_score)\n",
    "print('Score on test data: ', test_score)"
   ]
  },
  {
   "cell_type": "markdown",
   "metadata": {},
   "source": [
    "## We see the accuracy goes up if we just pick the most frequent value. This shows that it is not worthwhile to run any advance prediction if we are not going to tune the model to give us better accuracy than the baseline"
   ]
  },
  {
   "cell_type": "markdown",
   "metadata": {},
   "source": [
    "## Another way of looking at this is to use dummy classifier without using any features."
   ]
  },
  {
   "cell_type": "code",
   "execution_count": 16,
   "metadata": {},
   "outputs": [
    {
     "data": {
      "text/plain": [
       "0.7838383838383839"
      ]
     },
     "execution_count": 16,
     "metadata": {},
     "output_type": "execute_result"
    }
   ],
   "source": [
    "dummy = DummyClassifier(strategy = 'most_frequent')\n",
    "dummy.fit(X_train, y_train)\n",
    "dummy.score(X_test, y_test)"
   ]
  },
  {
   "cell_type": "markdown",
   "metadata": {},
   "source": [
    "## This score should make us to reflect on the usefulness of our classifier"
   ]
  },
  {
   "cell_type": "markdown",
   "metadata": {},
   "source": [
    "### We should now consider following issues:\n",
    "#### Are our features good predictors for our problem?\n",
    "#### Do algorithm's parameters need tuning?\n",
    "#### Do we have a large class imbalance?"
   ]
  },
  {
   "cell_type": "markdown",
   "metadata": {},
   "source": [
    "## Confusion Matrix\n",
    "### While it is important to have good accuracy, it does not tell the whole story. The confusion matrix gives us a deeper understanding of what is going on with our classification model performance by showing us how things are bucketed. It reveals to us which datapoints are bucketed correctly and which ones are not."
   ]
  },
  {
   "cell_type": "code",
   "execution_count": 17,
   "metadata": {},
   "outputs": [
    {
     "name": "stdout",
     "output_type": "stream",
     "text": [
      "[[11054   198]\n",
      " [  583  2520]]\n"
     ]
    }
   ],
   "source": [
    "# Simple confusion matrix\n",
    "predictions = lr.predict(X_test)\n",
    "\n",
    "confusion = confusion_matrix(y_test, predictions, labels=[1, 0])\n",
    "print(confusion)"
   ]
  },
  {
   "cell_type": "code",
   "execution_count": 18,
   "metadata": {},
   "outputs": [],
   "source": [
    "# Prepare a nice looking matrix function\n",
    "def plot_confusion_matrix(cm,\n",
    "                          target_names,\n",
    "                          title='Confusion matrix',\n",
    "                          cmap=None,\n",
    "                          normalize=True):\n",
    "    \"\"\"\n",
    "    given a sklearn confusion matrix (cm), make a nice plot\n",
    "\n",
    "    Arguments\n",
    "    ---------\n",
    "    cm:           confusion matrix from sklearn.metrics.confusion_matrix\n",
    "    target_names: given classification classes such as [0, 1, 2]\n",
    "                  the class names, for example: ['high', 'medium', 'low']\n",
    "    title:        the text to display at the top of the matrix\n",
    "    cmap:         the gradient of the values displayed from matplotlib.pyplot.cm\n",
    "                  see http://matplotlib.org/examples/color/colormaps_reference.html\n",
    "                  plt.get_cmap('jet') or plt.cm.Blues\n",
    "    normalize:    If False, plot the raw numbers\n",
    "                  If True, plot the proportions\n",
    "    Usage\n",
    "    -----\n",
    "    plot_confusion_matrix(cm           = cm,                  # confusion matrix created by\n",
    "                                                              # sklearn.metrics.confusion_matrix\n",
    "                          normalize    = True,                # show proportions\n",
    "                          target_names = y_labels_vals,       # list of names of the classes\n",
    "                          title        = best_estimator_name) # title of graph\n",
    "    Citiation\n",
    "    ---------\n",
    "    http://scikit-learn.org/stable/auto_examples/model_selection/plot_confusion_matrix.html\n",
    "    \"\"\"\n",
    "    import matplotlib.pyplot as plt\n",
    "    import numpy as np\n",
    "    import itertools\n",
    "\n",
    "    accuracy = np.trace(cm) / float(np.sum(cm))\n",
    "    misclass = 1 - accuracy\n",
    "\n",
    "    if cmap is None:\n",
    "        cmap = plt.get_cmap('Blues')\n",
    "\n",
    "    plt.figure(figsize=(8, 6))\n",
    "    plt.imshow(cm, interpolation='nearest', cmap=cmap)\n",
    "    plt.title(title)\n",
    "    plt.colorbar()\n",
    "\n",
    "    if target_names is not None:\n",
    "        tick_marks = np.arange(len(target_names))\n",
    "        plt.xticks(tick_marks, target_names, rotation=45)\n",
    "        plt.yticks(tick_marks, target_names)\n",
    "\n",
    "    if normalize:\n",
    "        cm = cm.astype('float') / cm.sum(axis=1)[:, np.newaxis]\n",
    "\n",
    "\n",
    "    thresh = cm.max() / 1.5 if normalize else cm.max() / 2\n",
    "    for i, j in itertools.product(range(cm.shape[0]), range(cm.shape[1])):\n",
    "        if normalize:\n",
    "            plt.text(j, i, \"{:0.4f}\".format(cm[i, j]),\n",
    "                     horizontalalignment=\"center\",\n",
    "                     color=\"white\" if cm[i, j] > thresh else \"black\")\n",
    "        else:\n",
    "            plt.text(j, i, \"{:,}\".format(cm[i, j]),\n",
    "                     horizontalalignment=\"center\",\n",
    "                     color=\"white\" if cm[i, j] > thresh else \"black\")\n",
    "\n",
    "\n",
    "    plt.tight_layout()\n",
    "    plt.ylabel('True label')\n",
    "    plt.xlabel('Predicted label\\naccuracy={:0.4f}; misclass={:0.4f}'.format(accuracy, misclass))\n",
    "    plt.show()"
   ]
  },
  {
   "cell_type": "code",
   "execution_count": 19,
   "metadata": {},
   "outputs": [
    {
     "data": {
      "image/png": "[encoded data removed]",
      "text/plain": [
       "<Figure size 576x432 with 2 Axes>"
      ]
     },
     "metadata": {
      "needs_background": "light"
     },
     "output_type": "display_data"
    }
   ],
   "source": [
    "plot_confusion_matrix(cm=confusion, target_names = ['Positive', 'Negative'], title = 'Confusion Matrix',normalize=False)"
   ]
  },
  {
   "cell_type": "code",
   "execution_count": 20,
   "metadata": {},
   "outputs": [
    {
     "name": "stdout",
     "output_type": "stream",
     "text": [
      "Accuracy score: 0.95\n",
      "Precision score: 0.95\n",
      "Recall score: 0.98\n",
      "F1 score: 0.97\n",
      "Fbeta score favoring precision: 0.96\n",
      "FBeta score favoring recall: 0.98\n"
     ]
    }
   ],
   "source": [
    "accuracy = accuracy_score(y_test, predictions)\n",
    "precision = precision_score(y_test, predictions)\n",
    "recall = recall_score(y_test, predictions)\n",
    "f1 = f1_score(y_test, predictions)\n",
    "fbeta_precision = fbeta_score(y_test, predictions, 0.5)\n",
    "fbeta_recall = fbeta_score(y_test, predictions, 2)\n",
    "\n",
    "print('Accuracy score: {:.2f}'.format(accuracy))\n",
    "print('Precision score: {:.2f}'.format(precision))\n",
    "print('Recall score: {:.2f}'.format(recall))\n",
    "print('F1 score: {:.2f}'.format(f1))\n",
    "print('Fbeta score favoring precision: {:.2f}'.format(fbeta_precision))\n",
    "print('FBeta score favoring recall: {:.2f}'.format(fbeta_recall))"
   ]
  },
  {
   "cell_type": "code",
   "execution_count": 21,
   "metadata": {},
   "outputs": [
    {
     "name": "stdout",
     "output_type": "stream",
     "text": [
      "              precision    recall  f1-score   support\n",
      "\n",
      "    Positive       0.93      0.81      0.87      3103\n",
      "    Negative       0.95      0.98      0.97     11252\n",
      "\n",
      "    accuracy                           0.95     14355\n",
      "   macro avg       0.94      0.90      0.92     14355\n",
      "weighted avg       0.94      0.95      0.94     14355\n",
      "\n"
     ]
    }
   ],
   "source": [
    "# We can get the same report using single call\n",
    "report = classification_report(y_test, predictions, target_names=['Positive', 'Negative'])\n",
    "print(report)"
   ]
  },
  {
   "cell_type": "code",
   "execution_count": 22,
   "metadata": {},
   "outputs": [
    {
     "name": "stdout",
     "output_type": "stream",
     "text": [
      "              precision    recall  f1-score   support\n",
      "\n",
      "    Positive       0.00      0.00      0.00      3103\n",
      "    Negative       0.78      1.00      0.88     11252\n",
      "\n",
      "    accuracy                           0.78     14355\n",
      "   macro avg       0.39      0.50      0.44     14355\n",
      "weighted avg       0.61      0.78      0.69     14355\n",
      "\n"
     ]
    }
   ],
   "source": [
    "# We can get the same report using single call and this time using dummy classifier used to make prediction on dominant class\n",
    "dummy_report = classification_report(y_test, dummy.predict(X_test), target_names=['Positive', 'Negative'])\n",
    "print(dummy_report)"
   ]
  },
  {
   "cell_type": "markdown",
   "metadata": {},
   "source": [
    "### An alternative to having actual predictions is to have the probabilities of those instances"
   ]
  },
  {
   "cell_type": "code",
   "execution_count": 23,
   "metadata": {},
   "outputs": [
    {
     "name": "stdout",
     "output_type": "stream",
     "text": [
      "[4.04365662e-09 9.78659935e-01 9.91559085e-01 9.99325980e-01\n",
      " 7.16642991e-01 9.96590074e-01 9.96005757e-01 9.97328760e-01\n",
      " 1.92016593e-01 9.95927275e-01 9.85939581e-01 3.26951346e-10\n",
      " 9.93788299e-01 9.86411262e-01 9.75049128e-01 9.99521496e-01\n",
      " 9.49435586e-01 9.90897701e-01 9.97375941e-01 9.99491233e-01\n",
      " 6.75652600e-10 9.86919441e-01 1.25237942e-02 9.62164803e-01\n",
      " 9.99894856e-01 2.53974069e-07 9.91945671e-01 8.90872928e-01\n",
      " 9.70838138e-01]\n"
     ]
    }
   ],
   "source": [
    "probs = lr.predict_proba(X_test)[:, 1]\n",
    "print(probs[1:30])"
   ]
  },
  {
   "cell_type": "code",
   "execution_count": 24,
   "metadata": {},
   "outputs": [
    {
     "data": {
      "image/png": "[encoded data removed]",
      "text/plain": [
       "<Figure size 576x288 with 1 Axes>"
      ]
     },
     "metadata": {},
     "output_type": "display_data"
    }
   ],
   "source": [
    "pos = [i for i, j in zip(probs, y_test) if j == 1]\n",
    "neg = [i for i, j in zip(probs, y_test) if j == 0]\n",
    "\n",
    "with plt.xkcd():\n",
    "  fig = plt.figure(figsize=(8, 4))\n",
    "\n",
    "  sns.distplot(pos, hist = False, kde = True, color='g',\n",
    "                 kde_kws = {'shade': True, 'linewidth': 3})\n",
    "\n",
    "  sns.distplot(neg, hist = False, kde = True, color='r',\n",
    "                 kde_kws = {'shade': True, 'linewidth': 3})\n",
    "\n",
    "  plt.plot([0.5, 0.5], [0, 25], '-b')\n",
    "  plt.annotate(\n",
    "        'The probability threshold\\npositive to the right\\nnegative to the left',\n",
    "        xy=(0.51, 15), arrowprops=dict(arrowstyle='->'), xytext=(0.6, 20))\n",
    "\n",
    "plt.show()"
   ]
  },
  {
   "cell_type": "code",
   "execution_count": 25,
   "metadata": {},
   "outputs": [
    {
     "name": "stdout",
     "output_type": "stream",
     "text": [
      "[0.         0.         0.00032227 0.00032227 0.00064454 0.00064454\n",
      " 0.00096681 0.00096681 0.00128908 0.00128908 0.00161134 0.00161134\n",
      " 0.00193361 0.00193361 0.00225588 0.00225588 0.00257815 0.00257815\n",
      " 0.00290042 0.00290042 0.00322269 0.00322269 0.00354496 0.00354496\n",
      " 0.00386723 0.00386723 0.00418949 0.00418949 0.00483403]\n",
      "[8.88730892e-05 7.55421258e-02 7.55421258e-02 7.63419836e-02\n",
      " 7.63419836e-02 7.67863491e-02 7.67863491e-02 1.46373978e-01\n",
      " 1.46373978e-01 3.29097049e-01 3.29097049e-01 3.30074653e-01\n",
      " 3.30074653e-01 3.78599360e-01 3.78599360e-01 3.93707785e-01\n",
      " 3.93707785e-01 4.96889442e-01 4.96889442e-01 4.97244934e-01\n",
      " 4.97244934e-01 4.98755777e-01 4.98755777e-01 5.30394597e-01\n",
      " 5.30394597e-01 5.46480626e-01 5.46480626e-01 5.69854248e-01\n",
      " 5.69854248e-01]\n",
      "[1.         0.99944777 0.9994468  0.99944294 0.9994429  0.99944073\n",
      " 0.99944049 0.99866707 0.998662   0.99659005 0.99658634 0.99656074\n",
      " 0.99655753 0.99577958 0.99577933 0.99543835 0.99543705 0.99095281\n",
      " 0.99094709 0.9909347  0.99093456 0.9908977  0.99089661 0.98985472\n",
      " 0.98983467 0.98852043 0.98851047 0.9868016  0.9867824 ]\n"
     ]
    }
   ],
   "source": [
    "fpr, tpr, thresholds = roc_curve(y_test, probs)\n",
    "print(fpr[1:30])\n",
    "print(tpr[1:30])\n",
    "print(thresholds[1:30])"
   ]
  },
  {
   "cell_type": "code",
   "execution_count": 26,
   "metadata": {},
   "outputs": [
    {
     "data": {
      "image/png": "[encoded data removed]",
      "text/plain": [
       "<Figure size 432x432 with 1 Axes>"
      ]
     },
     "metadata": {
      "needs_background": "light"
     },
     "output_type": "display_data"
    }
   ],
   "source": [
    "fig = plt.figure(figsize = (6, 6))\n",
    "plt.plot([0, 1], [0, 1], 'k--')\n",
    "plt.plot(fpr, tpr)\n",
    "plt.xlabel('False Positive Rate')\n",
    "plt.ylabel('True Positive Rate')\n",
    "plt.title('ROC curve for Logistic Regression Model')\n",
    "plt.show()"
   ]
  },
  {
   "cell_type": "markdown",
   "metadata": {},
   "source": [
    "### The top left-hand corner of this graph is the ideal spot: it minimizes the false positive rate and maximizes the true positive rate. That dashed line represents a 50% chance classifier. That is, any classifier that works as well as a coin toss will have a curve close to that line. But that is as good as random. So curves just above that line are better than random."
   ]
  },
  {
   "cell_type": "markdown",
   "metadata": {},
   "source": [
    "## Precision-Recall Curve"
   ]
  },
  {
   "cell_type": "code",
   "execution_count": 27,
   "metadata": {},
   "outputs": [
    {
     "data": {
      "image/png": "[encoded data removed]",
      "text/plain": [
       "<Figure size 432x432 with 1 Axes>"
      ]
     },
     "metadata": {
      "needs_background": "light"
     },
     "output_type": "display_data"
    }
   ],
   "source": [
    "pres, rec, thresholds = precision_recall_curve(y_test, predictions)\n",
    "fig = plt.figure(figsize = (6, 6))\n",
    "plt.plot(rec, pres)\n",
    "plt.xlabel('Recall')\n",
    "plt.ylabel('Precision')\n",
    "plt.title('Precision-Recall Curve')\n",
    "plt.show()"
   ]
  },
  {
   "cell_type": "markdown",
   "metadata": {},
   "source": [
    "## Area under the ROC curve (AUC)"
   ]
  },
  {
   "cell_type": "code",
   "execution_count": 28,
   "metadata": {},
   "outputs": [
    {
     "data": {
      "image/png": "[encoded data removed]",
      "text/plain": [
       "<Figure size 432x432 with 1 Axes>"
      ]
     },
     "metadata": {
      "needs_background": "light"
     },
     "output_type": "display_data"
    }
   ],
   "source": [
    "fig = plt.figure(figsize = (6, 6))\n",
    "plt.plot([0, 1], [0, 1], 'k--')\n",
    "plt.plot(fpr, tpr)\n",
    "plt.fill(fpr, tpr, 'grey', alpha=0.3)\n",
    "plt.xlabel('False Positive Rate')\n",
    "plt.ylabel('True Positive Rate')\n",
    "plt.title('ROC curve for Logistic Regression Model')\n",
    "plt.show()"
   ]
  },
  {
   "cell_type": "code",
   "execution_count": 29,
   "metadata": {},
   "outputs": [
    {
     "name": "stdout",
     "output_type": "stream",
     "text": [
      "Area under the ROC curve: 0.981\n"
     ]
    }
   ],
   "source": [
    "auc = roc_auc_score(y_test, probs)\n",
    "print('Area under the ROC curve: {:.3f}'.format(auc))"
   ]
  },
  {
   "cell_type": "markdown",
   "metadata": {},
   "source": [
    "## Cross Validation"
   ]
  },
  {
   "cell_type": "markdown",
   "metadata": {},
   "source": [
    "### First we run train test split twice, once where random sampling changes each time and once with same random state"
   ]
  },
  {
   "cell_type": "code",
   "execution_count": 30,
   "metadata": {},
   "outputs": [
    {
     "name": "stdout",
     "output_type": "stream",
     "text": [
      "First split score: 0.927\n",
      "First split score: 0.948\n"
     ]
    }
   ],
   "source": [
    "X_train, X_test, y_train, y_test = train_test_split(X, y_2)\n",
    "\n",
    "lr = LogisticRegression(solver='lbfgs')\n",
    "lr.fit(X_train, y_train)\n",
    "print('First split score: {:.3f}'.format(lr.score(X_test, y_test)))\n",
    "\n",
    "X_train, X_test, y_train, y_test = train_test_split(X, y_2, random_state=40)\n",
    "\n",
    "lr = LogisticRegression(solver='lbfgs')\n",
    "lr.fit(X_train, y_train)\n",
    "print('First split score: {:.3f}'.format(lr.score(X_test, y_test)))"
   ]
  },
  {
   "cell_type": "code",
   "execution_count": null,
   "metadata": {},
   "outputs": [],
   "source": []
  },
  {
   "cell_type": "code",
   "execution_count": 31,
   "metadata": {},
   "outputs": [
    {
     "name": "stdout",
     "output_type": "stream",
     "text": [
      "Accuracy scores for the 5 folds:  [0.95524904 0.93256705 0.92       0.95218391 0.93318008]\n",
      "Mean cross validatiion score: 0.939\n"
     ]
    }
   ],
   "source": [
    "X_train, X_test, y_train, y_test = train_test_split(X, y_2, random_state=40)\n",
    "clf = LogisticRegression(solver='lbfgs')\n",
    "cv_scores = cross_val_score(clf, X_train, y_train, cv = 5)\n",
    "\n",
    "print('Accuracy scores for the 5 folds: ', cv_scores)\n",
    "print('Mean cross validatiion score: {:.3f}'.format(np.mean(cv_scores)))"
   ]
  },
  {
   "cell_type": "markdown",
   "metadata": {},
   "source": [
    "### The prediction is still high when using 5 fold validation, giving us assurance that the model is performing well on unseen data multiple times."
   ]
  },
  {
   "cell_type": "code",
   "execution_count": 32,
   "metadata": {},
   "outputs": [
    {
     "name": "stdout",
     "output_type": "stream",
     "text": [
      "Score on training data:  0.7713716475095785\n",
      "Score on test data:  0.9714942528735632\n"
     ]
    }
   ],
   "source": [
    "# Increading iteration from 100 in default to 1000\n",
    "lr = LogisticRegression(solver='lbfgs', penalty='none', max_iter=1000, random_state=2)\n",
    "lr.fit(X_train, y_train)\n",
    "\n",
    "lr.score(X_test, y_test)\n",
    "\n",
    "test_score = lr.score(X_test, y_test)\n",
    "train_score = lr_regularized.score(X_train, y_train)\n",
    "\n",
    "print('Score on training data: ', train_score)\n",
    "print('Score on test data: ', test_score)"
   ]
  },
  {
   "cell_type": "code",
   "execution_count": 33,
   "metadata": {},
   "outputs": [
    {
     "name": "stdout",
     "output_type": "stream",
     "text": [
      "Score on training data:  0.9710038314176245\n",
      "Score on test data:  0.9714022988505747\n"
     ]
    }
   ],
   "source": [
    "# Increading iteration from 100 in default to 1000 and choose l2 as the cost function\n",
    "lr_regularized = LogisticRegression(solver='lbfgs', penalty='l2', max_iter=1000, random_state=2)\n",
    "lr_regularized.fit(X_train, y_train)\n",
    "\n",
    "lr_regularized.score(X_test, y_test)\n",
    "\n",
    "test_score = lr_regularized.score(X_test, y_test)\n",
    "train_score = lr_regularized.score(X_train, y_train)\n",
    "\n",
    "print('Score on training data: ', train_score)\n",
    "print('Score on test data: ', test_score)"
   ]
  },
  {
   "cell_type": "code",
   "execution_count": 63,
   "metadata": {},
   "outputs": [],
   "source": [
    "# Create train and test sample\n",
    "X_train, X_test, y_train, y_test = train_test_split(X, y, test_size=0.33, random_state=42)"
   ]
  },
  {
   "cell_type": "markdown",
   "metadata": {},
   "source": [
    "## Use of KNN"
   ]
  },
  {
   "cell_type": "code",
   "execution_count": 74,
   "metadata": {},
   "outputs": [
    {
     "name": "stdout",
     "output_type": "stream",
     "text": [
      "Score on training data:  0.9979070166409333\n",
      "Score on test data:  0.997979797979798\n"
     ]
    }
   ],
   "source": [
    "knn = KNeighborsClassifier(n_neighbors=7)\n",
    "# Then  fit the model\n",
    "knn.fit(X_train, y_train)\n",
    "\n",
    "# How well did we do\n",
    "knn_7_score = knn.score(X_test, y_test)\n",
    "knn_7_predictions = knn.predict(X_test)\n",
    "\n",
    "knn.score(X_test, y_test)\n",
    "\n",
    "test_score = knn.score(X_test, y_test)\n",
    "train_score = knn.score(X_train, y_train)\n",
    "\n",
    "print('Score on training data: ', train_score)\n",
    "print('Score on test data: ', test_score)"
   ]
  },
  {
   "cell_type": "markdown",
   "metadata": {},
   "source": [
    "#### KNN scores are almost clost to 100% with k=7. And it seems they are not sensitive to different k. This indicate the features are quite representative in predicting the targets."
   ]
  },
  {
   "cell_type": "markdown",
   "metadata": {},
   "source": [
    "### Decision Tree"
   ]
  },
  {
   "cell_type": "code",
   "execution_count": 78,
   "metadata": {},
   "outputs": [
    {
     "name": "stdout",
     "output_type": "stream",
     "text": [
      "Score on training data:  1.0\n",
      "Score on test data:  0.999791013584117\n"
     ]
    }
   ],
   "source": [
    "rf = RandomForestClassifier(n_estimators = 22, random_state = 40)\n",
    "\n",
    "rf.fit(X_train,y_train)\n",
    "\n",
    "rf_score = rf.score(X_test, y_test)\n",
    "\n",
    "rf.score(X_test, y_test)\n",
    "\n",
    "test_score = rf.score(X_test, y_test)\n",
    "train_score = rf.score(X_train, y_train)\n",
    "\n",
    "print('Score on training data: ', train_score)\n",
    "print('Score on test data: ', test_score)"
   ]
  },
  {
   "cell_type": "markdown",
   "metadata": {},
   "source": [
    "#### Random forest scores are almost close to 100%. This can be an inidcator of overfitting that need further investigation."
   ]
  }
 ],
 "metadata": {
  "kernelspec": {
   "display_name": "Python 3",
   "language": "python",
   "name": "python3"
  },
  "language_info": {
   "codemirror_mode": {
    "name": "ipython",
    "version": 3
   },
   "file_extension": ".py",
   "mimetype": "text/x-python",
   "name": "python",
   "nbconvert_exporter": "python",
   "pygments_lexer": "ipython3",
   "version": "3.7.7"
  }
 },
 "nbformat": 4,
 "nbformat_minor": 4
}
